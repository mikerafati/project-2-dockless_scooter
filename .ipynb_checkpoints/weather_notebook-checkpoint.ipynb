{
 "cells": [
  {
   "cell_type": "code",
   "execution_count": 1,
   "metadata": {
    "collapsed": true
   },
   "outputs": [],
   "source": [
    "import pandas as pd\n",
    "import numpy as np\n",
    "import requests\n",
    "import time\n",
    "import json\n",
    "from datetime import datetime, timedelta\n",
    "from dateutil.relativedelta import *\n",
    "import calendar"
   ]
  },
  {
   "cell_type": "code",
   "execution_count": 2,
   "metadata": {
    "collapsed": true
   },
   "outputs": [],
   "source": [
    "#Import API key\n",
    "from api_keys import api_key"
   ]
  },
  {
   "cell_type": "code",
   "execution_count": 3,
   "metadata": {},
   "outputs": [
    {
     "data": {
      "text/plain": [
       "datetime.date(2018, 4, 1)"
      ]
     },
     "execution_count": 3,
     "metadata": {},
     "output_type": "execute_result"
    }
   ],
   "source": [
    "s_date=\"2018-04-01\"\n",
    "start_date=datetime.strptime(s_date, '%Y-%m-%d').date()\n",
    "start_date"
   ]
  },
  {
   "cell_type": "code",
   "execution_count": 4,
   "metadata": {
    "collapsed": true
   },
   "outputs": [],
   "source": [
    "start_date_arr=[]\n",
    "end_date_arr=[]\n",
    "start_date_arr.append(start_date)\n",
    "for  i in range (1,13):\n",
    "    start_date+=relativedelta(months=+1)\n",
    "    \n",
    "    start_date_arr.append(start_date)\n",
    "    \n",
    "    if start_date-timedelta(days=1) > datetime.today().date():\n",
    "        e_date=datetime.today()-timedelta(days=1)\n",
    "        end_date_arr.append(e_date)\n",
    "    else:\n",
    "        e_date= start_date-timedelta(days=1)\n",
    "        end_date_arr.append(e_date)\n",
    "    \n",
    "#     no_of_days=calendar.monthrange(start_date.year,start_date.month)\n",
    "#     print(no_of_days[1])\n",
    "    \n",
    "    \n",
    "# print(start_date_arr)\n",
    "# print(end_date_arr)\n",
    "\n",
    "    \n"
   ]
  },
  {
   "cell_type": "code",
   "execution_count": 5,
   "metadata": {
    "collapsed": true
   },
   "outputs": [],
   "source": [
    "# print(len(start_date_arr))\n",
    "# print(len(end_date_arr))"
   ]
  },
  {
   "cell_type": "code",
   "execution_count": 6,
   "metadata": {
    "collapsed": true
   },
   "outputs": [],
   "source": [
    "start_date_str=[]\n",
    "for date in start_date_arr:\n",
    "    dates= date.strftime('%Y-%m-%d')\n",
    "    start_date_str.append(dates)\n",
    "    \n",
    "# print(start_date_str)\n",
    "\n"
   ]
  },
  {
   "cell_type": "code",
   "execution_count": 7,
   "metadata": {
    "collapsed": true
   },
   "outputs": [],
   "source": [
    "end_date_str=[]\n",
    "for date in end_date_arr:\n",
    "    dates= date.strftime('%Y-%m-%d')\n",
    "    end_date_str.append(dates)\n",
    "    \n",
    "# print(end_date_str)"
   ]
  },
  {
   "cell_type": "code",
   "execution_count": 8,
   "metadata": {},
   "outputs": [
    {
     "name": "stdout",
     "output_type": "stream",
     "text": [
      "http://api.worldweatheronline.com/premium/v1/past-weather.ashx\n"
     ]
    }
   ],
   "source": [
    "base_url= 'http://api.worldweatheronline.com/premium/v1/past-weather.ashx'\n",
    "print(base_url)"
   ]
  },
  {
   "cell_type": "code",
   "execution_count": 9,
   "metadata": {
    "collapsed": true
   },
   "outputs": [],
   "source": [
    "response_list=[]\n",
    "\n",
    "for i in range (len(end_date_str)):\n",
    "\n",
    "    params={\n",
    "        \"q\":\"Austin,tx\",\n",
    "        \"date\":start_date_str[i],\n",
    "        \"enddate\":end_date_str[i],\n",
    "        \"tp\":\"1\",\n",
    "        \"format\":\"json\",\n",
    "        \"key\": api_key\n",
    "    }\n",
    "\n",
    "    response = requests.get(base_url, params=params).json()\n",
    "    response_list.append(response)\n",
    "    "
   ]
  },
  {
   "cell_type": "code",
   "execution_count": 15,
   "metadata": {
    "collapsed": true
   },
   "outputs": [],
   "source": [
    "# response_list"
   ]
  },
  {
   "cell_type": "code",
   "execution_count": 11,
   "metadata": {
    "collapsed": true
   },
   "outputs": [],
   "source": [
    "d=[]\n",
    "sr=[]\n",
    "ss=[]\n",
    "h=[]\n",
    "temp=[]\n",
    "precip=[]\n",
    "wd=[]\n",
    "HI=[]\n",
    "fl=[]\n",
    "for k in range(len(response_list)):\n",
    "    try:\n",
    "        for i in range(len(response_list[k]['data']['weather'])):\n",
    "            for j in range(len(response_list[k]['data']['weather'][i]['hourly'])):\n",
    "                d.append(response_list[k]['data']['weather'][i]['date'])\n",
    "                sr.append(response_list[k]['data']['weather'][i]['astronomy'][0]['sunrise'])\n",
    "                ss.append(response_list[k]['data']['weather'][i]['astronomy'][0]['sunset'])\n",
    "                h.append(response_list[k]['data']['weather'][i]['hourly'][j]['time'])\n",
    "                temp.append(response_list[k]['data']['weather'][i]['hourly'][j]['tempF'])\n",
    "                precip.append(response_list[k]['data']['weather'][i]['hourly'][j]['precipMM'])\n",
    "                HI.append(response_list[k]['data']['weather'][i]['hourly'][j]['HeatIndexF'])\n",
    "                fl.append(response_list[k]['data']['weather'][i]['hourly'][j]['FeelsLikeF'])\n",
    "                wd.append(response_list[k]['data']['weather'][i]['hourly'][j]['weatherDesc'][0]['value'])\n",
    "                \n",
    "    except KeyError:\n",
    "        pass\n",
    "        \n",
    "                "
   ]
  },
  {
   "cell_type": "code",
   "execution_count": 12,
   "metadata": {
    "collapsed": true
   },
   "outputs": [],
   "source": [
    "weather_df=pd.DataFrame({'date':d, 'sunrise':sr, 'sunset':ss, 'hour':h, 'temperature':temp,'heat_index':HI, 'feels_like':fl,\n",
    "                         'precipitation':precip, 'weather_description':wd })"
   ]
  },
  {
   "cell_type": "code",
   "execution_count": 13,
   "metadata": {},
   "outputs": [
    {
     "data": {
      "text/html": [
       "<div>\n",
       "<style scoped>\n",
       "    .dataframe tbody tr th:only-of-type {\n",
       "        vertical-align: middle;\n",
       "    }\n",
       "\n",
       "    .dataframe tbody tr th {\n",
       "        vertical-align: top;\n",
       "    }\n",
       "\n",
       "    .dataframe thead th {\n",
       "        text-align: right;\n",
       "    }\n",
       "</style>\n",
       "<table border=\"1\" class=\"dataframe\">\n",
       "  <thead>\n",
       "    <tr style=\"text-align: right;\">\n",
       "      <th></th>\n",
       "      <th>date</th>\n",
       "      <th>sunrise</th>\n",
       "      <th>sunset</th>\n",
       "      <th>hour</th>\n",
       "      <th>temperature</th>\n",
       "      <th>heat_index</th>\n",
       "      <th>feels_like</th>\n",
       "      <th>precipitation</th>\n",
       "      <th>weather_description</th>\n",
       "    </tr>\n",
       "  </thead>\n",
       "  <tbody>\n",
       "    <tr>\n",
       "      <th>0</th>\n",
       "      <td>2018-04-01</td>\n",
       "      <td>07:20 AM</td>\n",
       "      <td>07:50 PM</td>\n",
       "      <td>0</td>\n",
       "      <td>62</td>\n",
       "      <td>62</td>\n",
       "      <td>62</td>\n",
       "      <td>0.0</td>\n",
       "      <td>Cloudy</td>\n",
       "    </tr>\n",
       "    <tr>\n",
       "      <th>1</th>\n",
       "      <td>2018-04-01</td>\n",
       "      <td>07:20 AM</td>\n",
       "      <td>07:50 PM</td>\n",
       "      <td>100</td>\n",
       "      <td>62</td>\n",
       "      <td>62</td>\n",
       "      <td>62</td>\n",
       "      <td>0.0</td>\n",
       "      <td>Cloudy</td>\n",
       "    </tr>\n",
       "    <tr>\n",
       "      <th>2</th>\n",
       "      <td>2018-04-01</td>\n",
       "      <td>07:20 AM</td>\n",
       "      <td>07:50 PM</td>\n",
       "      <td>200</td>\n",
       "      <td>62</td>\n",
       "      <td>62</td>\n",
       "      <td>61</td>\n",
       "      <td>0.0</td>\n",
       "      <td>Patchy rain possible</td>\n",
       "    </tr>\n",
       "    <tr>\n",
       "      <th>3</th>\n",
       "      <td>2018-04-01</td>\n",
       "      <td>07:20 AM</td>\n",
       "      <td>07:50 PM</td>\n",
       "      <td>300</td>\n",
       "      <td>61</td>\n",
       "      <td>61</td>\n",
       "      <td>61</td>\n",
       "      <td>0.0</td>\n",
       "      <td>Patchy rain possible</td>\n",
       "    </tr>\n",
       "    <tr>\n",
       "      <th>4</th>\n",
       "      <td>2018-04-01</td>\n",
       "      <td>07:20 AM</td>\n",
       "      <td>07:50 PM</td>\n",
       "      <td>400</td>\n",
       "      <td>61</td>\n",
       "      <td>61</td>\n",
       "      <td>61</td>\n",
       "      <td>0.0</td>\n",
       "      <td>Patchy rain possible</td>\n",
       "    </tr>\n",
       "  </tbody>\n",
       "</table>\n",
       "</div>"
      ],
      "text/plain": [
       "         date   sunrise    sunset hour temperature heat_index feels_like  \\\n",
       "0  2018-04-01  07:20 AM  07:50 PM    0          62         62         62   \n",
       "1  2018-04-01  07:20 AM  07:50 PM  100          62         62         62   \n",
       "2  2018-04-01  07:20 AM  07:50 PM  200          62         62         61   \n",
       "3  2018-04-01  07:20 AM  07:50 PM  300          61         61         61   \n",
       "4  2018-04-01  07:20 AM  07:50 PM  400          61         61         61   \n",
       "\n",
       "  precipitation   weather_description  \n",
       "0           0.0                Cloudy  \n",
       "1           0.0                Cloudy  \n",
       "2           0.0  Patchy rain possible  \n",
       "3           0.0  Patchy rain possible  \n",
       "4           0.0  Patchy rain possible  "
      ]
     },
     "execution_count": 13,
     "metadata": {},
     "output_type": "execute_result"
    }
   ],
   "source": [
    "weather_df.head()"
   ]
  },
  {
   "cell_type": "code",
   "execution_count": 16,
   "metadata": {
    "collapsed": true
   },
   "outputs": [],
   "source": [
    "weather_df.to_csv(\"weather_csv.csv\",index=False)"
   ]
  },
  {
   "cell_type": "code",
   "execution_count": null,
   "metadata": {
    "collapsed": true
   },
   "outputs": [],
   "source": []
  }
 ],
 "metadata": {
  "kernelspec": {
   "display_name": "Python 3",
   "language": "python",
   "name": "python3"
  },
  "language_info": {
   "codemirror_mode": {
    "name": "ipython",
    "version": 3
   },
   "file_extension": ".py",
   "mimetype": "text/x-python",
   "name": "python",
   "nbconvert_exporter": "python",
   "pygments_lexer": "ipython3",
   "version": "3.6.7"
  }
 },
 "nbformat": 4,
 "nbformat_minor": 2
}
